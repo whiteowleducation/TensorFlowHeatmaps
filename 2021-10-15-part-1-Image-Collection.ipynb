{
 "cells": [
  {
   "cell_type": "markdown",
   "metadata": {},
   "source": [
    "Tensorflow Object Detection API course\n",
    "\n",
    "* Collect and label images based on YouTube overview of TensorFlow Object Detection (https://www.youtube.com/watch?v=yqkISICHH-U)\n",
    "* The following code is slightly modified from the related code from that YouTube course (git clone https://github.com/nicknochnack/TFODCourse)"
   ]
  },
  {
   "cell_type": "markdown",
   "metadata": {},
   "source": [
    "# 1. Import Dependencies"
   ]
  },
  {
   "cell_type": "code",
   "execution_count": 1,
   "metadata": {},
   "outputs": [
    {
     "name": "stdout",
     "output_type": "stream",
     "text": [
      "Requirement already satisfied: opencv-python in c:\\programdata\\anaconda3\\envs\\tfodcourse\\lib\\site-packages (4.5.3.56)\n",
      "Requirement already satisfied: numpy>=1.17.3 in c:\\programdata\\anaconda3\\envs\\tfodcourse\\lib\\site-packages (from opencv-python) (1.19.5)\n"
     ]
    },
    {
     "name": "stderr",
     "output_type": "stream",
     "text": [
      "WARNING: Ignoring invalid distribution -umpy (c:\\programdata\\anaconda3\\envs\\tfodcourse\\lib\\site-packages)\n",
      "WARNING: Ignoring invalid distribution -oogle-auth (c:\\programdata\\anaconda3\\envs\\tfodcourse\\lib\\site-packages)\n",
      "WARNING: Ignoring invalid distribution -umpy (c:\\programdata\\anaconda3\\envs\\tfodcourse\\lib\\site-packages)\n",
      "WARNING: Ignoring invalid distribution -oogle-auth (c:\\programdata\\anaconda3\\envs\\tfodcourse\\lib\\site-packages)\n",
      "WARNING: Ignoring invalid distribution -umpy (c:\\programdata\\anaconda3\\envs\\tfodcourse\\lib\\site-packages)\n",
      "WARNING: Ignoring invalid distribution -oogle-auth (c:\\programdata\\anaconda3\\envs\\tfodcourse\\lib\\site-packages)\n",
      "WARNING: Ignoring invalid distribution -umpy (c:\\programdata\\anaconda3\\envs\\tfodcourse\\lib\\site-packages)\n",
      "WARNING: Ignoring invalid distribution -oogle-auth (c:\\programdata\\anaconda3\\envs\\tfodcourse\\lib\\site-packages)\n",
      "WARNING: Ignoring invalid distribution -umpy (c:\\programdata\\anaconda3\\envs\\tfodcourse\\lib\\site-packages)\n",
      "WARNING: Ignoring invalid distribution -oogle-auth (c:\\programdata\\anaconda3\\envs\\tfodcourse\\lib\\site-packages)\n"
     ]
    }
   ],
   "source": [
    "!pip install opencv-python"
   ]
  },
  {
   "cell_type": "code",
   "execution_count": 2,
   "metadata": {},
   "outputs": [],
   "source": [
    "# Import opencv\n",
    "import cv2 \n",
    "\n",
    "# Import uuid\n",
    "import uuid\n",
    "\n",
    "# Import Operating System\n",
    "import os\n",
    "\n",
    "# Import time\n",
    "import time"
   ]
  },
  {
   "cell_type": "markdown",
   "metadata": {},
   "source": [
    "# 2. Define Images to Collect"
   ]
  },
  {
   "cell_type": "markdown",
   "metadata": {},
   "source": [
    "The following code collects a series of thumbs up or thumbs down images from a webcam. "
   ]
  },
  {
   "cell_type": "code",
   "execution_count": null,
   "metadata": {},
   "outputs": [],
   "source": [
    "# labels = ['thumbsup', 'thumbsdown', 'thankyou', 'livelong']\n",
    "labels = ['thumbsup', 'thumbsdown']\n",
    "number_imgs = 6"
   ]
  },
  {
   "cell_type": "markdown",
   "metadata": {},
   "source": [
    "# 3. Setup Folders "
   ]
  },
  {
   "cell_type": "code",
   "execution_count": 3,
   "metadata": {},
   "outputs": [],
   "source": [
    "IMAGES_PATH = os.path.join('Tensorflow', 'workspace', 'images', 'collectedimages')"
   ]
  },
  {
   "cell_type": "code",
   "execution_count": 6,
   "metadata": {},
   "outputs": [],
   "source": [
    "if not os.path.exists(IMAGES_PATH):\n",
    "    if os.name == 'posix':\n",
    "        !mkdir -p {IMAGES_PATH}\n",
    "    if os.name == 'nt':\n",
    "         !mkdir {IMAGES_PATH}\n",
    "for label in labels:\n",
    "    path = os.path.join(IMAGES_PATH, label)\n",
    "    if not os.path.exists(path):\n",
    "        !mkdir {path}"
   ]
  },
  {
   "cell_type": "code",
   "execution_count": 7,
   "metadata": {},
   "outputs": [
    {
     "data": {
      "text/plain": [
       "'nt'"
      ]
     },
     "execution_count": 7,
     "metadata": {},
     "output_type": "execute_result"
    }
   ],
   "source": [
    "os.name"
   ]
  },
  {
   "cell_type": "markdown",
   "metadata": {},
   "source": [
    "# 4. Capture Images"
   ]
  },
  {
   "cell_type": "code",
   "execution_count": 16,
   "metadata": {},
   "outputs": [
    {
     "name": "stdout",
     "output_type": "stream",
     "text": [
      "Collecting images for thumbsup\n",
      "Collecting image 0\n",
      "Collecting image 1\n",
      "Collecting image 2\n",
      "Collecting image 3\n",
      "Collecting image 4\n",
      "Collecting image 5\n",
      "Collecting images for thumbsdown\n",
      "Collecting image 0\n",
      "Collecting image 1\n",
      "Collecting image 2\n",
      "Collecting image 3\n",
      "Collecting image 4\n",
      "Collecting image 5\n"
     ]
    }
   ],
   "source": [
    "\n",
    "for label in labels:\n",
    "    # On my system, the camera is found at index 1\n",
    "    cap = cv2.VideoCapture(1)\n",
    "    print('Collecting images for {}'.format(label))\n",
    "    time.sleep(5)\n",
    "    for imgnum in range(number_imgs):\n",
    "        print('Collecting image {}'.format(imgnum))\n",
    "        ret, frame = cap.read()\n",
    "        imgname = os.path.join(IMAGES_PATH,label,label+'.'+'{}.jpg'.format(str(uuid.uuid1())))\n",
    "        cv2.imwrite(imgname, frame)\n",
    "        cv2.imshow('frame', frame)\n",
    "        time.sleep(2)\n",
    "\n",
    "        if cv2.waitKey(1) & 0xFF == ord('q'):\n",
    "            break\n",
    "cap.release()\n",
    "cv2.destroyAllWindows()\n"
   ]
  },
  {
   "cell_type": "markdown",
   "metadata": {},
   "source": [
    "# 5. Image Labelling"
   ]
  },
  {
   "cell_type": "markdown",
   "metadata": {},
   "source": [
    "* This is the part that is going to run labelimg\n",
    "* Prototype as fast as possible"
   ]
  },
  {
   "cell_type": "code",
   "execution_count": 17,
   "metadata": {},
   "outputs": [
    {
     "name": "stdout",
     "output_type": "stream",
     "text": [
      "Requirement already satisfied: pyqt5 in c:\\programdata\\anaconda3\\envs\\tfodcourse\\lib\\site-packages (5.15.4)\n",
      "Requirement already satisfied: lxml in c:\\programdata\\anaconda3\\envs\\tfodcourse\\lib\\site-packages (4.6.3)\n",
      "Requirement already satisfied: PyQt5-Qt5>=5.15 in c:\\programdata\\anaconda3\\envs\\tfodcourse\\lib\\site-packages (from pyqt5) (5.15.2)\n",
      "Requirement already satisfied: PyQt5-sip<13,>=12.8 in c:\\programdata\\anaconda3\\envs\\tfodcourse\\lib\\site-packages (from pyqt5) (12.9.0)\n"
     ]
    },
    {
     "name": "stderr",
     "output_type": "stream",
     "text": [
      "WARNING: Ignoring invalid distribution -umpy (c:\\programdata\\anaconda3\\envs\\tfodcourse\\lib\\site-packages)\n",
      "WARNING: Ignoring invalid distribution -oogle-auth (c:\\programdata\\anaconda3\\envs\\tfodcourse\\lib\\site-packages)\n",
      "WARNING: Ignoring invalid distribution -umpy (c:\\programdata\\anaconda3\\envs\\tfodcourse\\lib\\site-packages)\n",
      "WARNING: Ignoring invalid distribution -oogle-auth (c:\\programdata\\anaconda3\\envs\\tfodcourse\\lib\\site-packages)\n",
      "WARNING: Ignoring invalid distribution -umpy (c:\\programdata\\anaconda3\\envs\\tfodcourse\\lib\\site-packages)\n",
      "WARNING: Ignoring invalid distribution -oogle-auth (c:\\programdata\\anaconda3\\envs\\tfodcourse\\lib\\site-packages)\n",
      "WARNING: Ignoring invalid distribution -umpy (c:\\programdata\\anaconda3\\envs\\tfodcourse\\lib\\site-packages)\n",
      "WARNING: Ignoring invalid distribution -oogle-auth (c:\\programdata\\anaconda3\\envs\\tfodcourse\\lib\\site-packages)\n",
      "WARNING: Ignoring invalid distribution -umpy (c:\\programdata\\anaconda3\\envs\\tfodcourse\\lib\\site-packages)\n",
      "WARNING: Ignoring invalid distribution -oogle-auth (c:\\programdata\\anaconda3\\envs\\tfodcourse\\lib\\site-packages)\n"
     ]
    }
   ],
   "source": [
    "!pip install --upgrade pyqt5 lxml"
   ]
  },
  {
   "cell_type": "code",
   "execution_count": 18,
   "metadata": {},
   "outputs": [],
   "source": [
    "LABELIMG_PATH = os.path.join('Tensorflow', 'labelimg')"
   ]
  },
  {
   "cell_type": "markdown",
   "metadata": {},
   "source": [
    "Use labelimg in order to label the data\n",
    "\n",
    "https://tzutalin.github.io/labelImg/\n",
    "https://github.com/tzutalin/labelImg"
   ]
  },
  {
   "cell_type": "code",
   "execution_count": 19,
   "metadata": {},
   "outputs": [],
   "source": [
    "if not os.path.exists(LABELIMG_PATH):\n",
    "    !mkdir {LABELIMG_PATH}\n",
    "    !git clone https://github.com/tzutalin/labelImg {LABELIMG_PATH}"
   ]
  },
  {
   "cell_type": "code",
   "execution_count": 20,
   "metadata": {},
   "outputs": [],
   "source": [
    "# you might need !cd {LABELIMG_PATH } && make qt5py3\n",
    "if os.name == 'posix':\n",
    "    !make qt5py3\n",
    "if os.name =='nt':\n",
    "    !cd {LABELIMG_PATH} && pyrcc5 -o libs/resources.py resources.qrc"
   ]
  },
  {
   "cell_type": "code",
   "execution_count": 21,
   "metadata": {},
   "outputs": [
    {
     "name": "stdout",
     "output_type": "stream",
     "text": [
      "Image:D:\\python\\tmp\\tfodcourse\\Tensorflow\\workspace\\images\\collectedimages\\thumbsup\\thumbsup.3c6e251b-0fee-11ec-a1a7-34cff6fc365d.jpg -> Annotation:D:/python/tmp/tfodcourse/Tensorflow/workspace/images/collectedimages/thumbsup/thumbsup.3c6e251b-0fee-11ec-a1a7-34cff6fc365d.xml\n",
      "Image:D:\\python\\tmp\\tfodcourse\\Tensorflow\\workspace\\images\\collectedimages\\thumbsup\\thumbsup.3dabda97-0fee-11ec-829b-34cff6fc365d.jpg -> Annotation:D:/python/tmp/tfodcourse/Tensorflow/workspace/images/collectedimages/thumbsup/thumbsup.3dabda97-0fee-11ec-829b-34cff6fc365d.xml\n",
      "Image:D:\\python\\tmp\\tfodcourse\\Tensorflow\\workspace\\images\\collectedimages\\thumbsup\\thumbsup.3ee4368f-0fee-11ec-aa9f-34cff6fc365d.jpg -> Annotation:D:/python/tmp/tfodcourse/Tensorflow/workspace/images/collectedimages/thumbsup/thumbsup.3ee4368f-0fee-11ec-aa9f-34cff6fc365d.xml\n",
      "Image:D:\\python\\tmp\\tfodcourse\\Tensorflow\\workspace\\images\\collectedimages\\thumbsup\\thumbsup.5a2507fe-0fed-11ec-896e-34cff6fc365d.jpg -> Annotation:D:/python/tmp/tfodcourse/Tensorflow/workspace/images/collectedimages/thumbsup/thumbsup.5a2507fe-0fed-11ec-896e-34cff6fc365d.xml\n",
      "Image:D:\\python\\tmp\\tfodcourse\\Tensorflow\\workspace\\images\\collectedimages\\thumbsup\\thumbsup.5b60432d-0fed-11ec-802d-34cff6fc365d.jpg -> Annotation:D:/python/tmp/tfodcourse/Tensorflow/workspace/images/collectedimages/thumbsup/thumbsup.5b60432d-0fed-11ec-802d-34cff6fc365d.xml\n",
      "Image:D:\\python\\tmp\\tfodcourse\\Tensorflow\\workspace\\images\\collectedimages\\thumbsup\\thumbsup.57afcc1c-0fed-11ec-8c32-34cff6fc365d.jpg -> Annotation:D:/python/tmp/tfodcourse/Tensorflow/workspace/images/collectedimages/thumbsup/thumbsup.57afcc1c-0fed-11ec-8c32-34cff6fc365d.xml\n",
      "Image:D:\\python\\tmp\\tfodcourse\\Tensorflow\\workspace\\images\\collectedimages\\thumbsup\\thumbsup.401eae86-0fee-11ec-bb67-34cff6fc365d.jpg -> Annotation:D:/python/tmp/tfodcourse/Tensorflow/workspace/images/collectedimages/thumbsup/thumbsup.401eae86-0fee-11ec-bb67-34cff6fc365d.xml\n",
      "Image:D:\\python\\tmp\\tfodcourse\\Tensorflow\\workspace\\images\\collectedimages\\thumbsup\\thumbsup.4294a95a-0fee-11ec-bac7-34cff6fc365d.jpg -> Annotation:D:/python/tmp/tfodcourse/Tensorflow/workspace/images/collectedimages/thumbsup/thumbsup.4294a95a-0fee-11ec-bac7-34cff6fc365d.xml\n",
      "Image:D:\\python\\tmp\\tfodcourse\\Tensorflow\\workspace\\images\\collectedimages\\thumbsup\\thumbsup.5676e848-0fed-11ec-824b-34cff6fc365d.jpg -> Annotation:D:/python/tmp/tfodcourse/Tensorflow/workspace/images/collectedimages/thumbsup/thumbsup.5676e848-0fed-11ec-824b-34cff6fc365d.xml\n",
      "Image:D:\\python\\tmp\\tfodcourse\\Tensorflow\\workspace\\images\\collectedimages\\thumbsup\\thumbsup.415970f3-0fee-11ec-a0cb-34cff6fc365d.jpg -> Annotation:D:/python/tmp/tfodcourse/Tensorflow/workspace/images/collectedimages/thumbsup/thumbsup.415970f3-0fee-11ec-a0cb-34cff6fc365d.xml\n",
      "Image:D:\\python\\tmp\\tfodcourse\\Tensorflow\\workspace\\images\\collectedimages\\thumbsup\\thumbsup.5539160b-0fed-11ec-8194-34cff6fc365d.jpg -> Annotation:D:/python/tmp/tfodcourse/Tensorflow/workspace/images/collectedimages/thumbsup/thumbsup.5539160b-0fed-11ec-8194-34cff6fc365d.xml\n",
      "Image:D:\\python\\tmp\\tfodcourse\\Tensorflow\\workspace\\images\\collectedimages\\thumbsdown\\thumbsdown.4ad4e270-0fee-11ec-b889-34cff6fc365d.jpg -> Annotation:D:/python/tmp/tfodcourse/Tensorflow/workspace/images/collectedimages/thumbsdown/thumbsdown.4ad4e270-0fee-11ec-b889-34cff6fc365d.xml\n",
      "Image:D:\\python\\tmp\\tfodcourse\\Tensorflow\\workspace\\images\\collectedimages\\thumbsdown\\thumbsdown.4c0f8f30-0fee-11ec-b44a-34cff6fc365d.jpg -> Annotation:D:/python/tmp/tfodcourse/Tensorflow/workspace/images/collectedimages/thumbsdown/thumbsdown.4c0f8f30-0fee-11ec-b44a-34cff6fc365d.xml\n",
      "Image:D:\\python\\tmp\\tfodcourse\\Tensorflow\\workspace\\images\\collectedimages\\thumbsdown\\thumbsdown.4d4ab2b0-0fee-11ec-99b0-34cff6fc365d.jpg -> Annotation:D:/python/tmp/tfodcourse/Tensorflow/workspace/images/collectedimages/thumbsdown/thumbsdown.4d4ab2b0-0fee-11ec-99b0-34cff6fc365d.xml\n",
      "Image:D:\\python\\tmp\\tfodcourse\\Tensorflow\\workspace\\images\\collectedimages\\thumbsdown\\thumbsdown.5fee52ad-0fed-11ec-a04e-34cff6fc365d.jpg -> Annotation:D:/python/tmp/tfodcourse/Tensorflow/workspace/images/collectedimages/thumbsdown/thumbsdown.5fee52ad-0fed-11ec-a04e-34cff6fc365d.xml\n",
      "Image:D:\\python\\tmp\\tfodcourse\\Tensorflow\\workspace\\images\\collectedimages\\thumbsdown\\thumbsdown.64d69a84-0fed-11ec-8d17-34cff6fc365d.jpg -> Annotation:D:/python/tmp/tfodcourse/Tensorflow/workspace/images/collectedimages/thumbsdown/thumbsdown.64d69a84-0fed-11ec-8d17-34cff6fc365d.xml\n",
      "Image:D:\\python\\tmp\\tfodcourse\\Tensorflow\\workspace\\images\\collectedimages\\thumbsdown\\thumbsdown.639c99f6-0fed-11ec-b5ab-34cff6fc365d.jpg -> Annotation:D:/python/tmp/tfodcourse/Tensorflow/workspace/images/collectedimages/thumbsdown/thumbsdown.639c99f6-0fed-11ec-b5ab-34cff6fc365d.xml\n",
      "Image:D:\\python\\tmp\\tfodcourse\\Tensorflow\\workspace\\images\\collectedimages\\thumbsdown\\thumbsdown.4725e7a8-0fee-11ec-8016-34cff6fc365d.jpg -> Annotation:D:/python/tmp/tfodcourse/Tensorflow/workspace/images/collectedimages/thumbsdown/thumbsdown.4725e7a8-0fee-11ec-8016-34cff6fc365d.xml\n",
      "Image:D:\\python\\tmp\\tfodcourse\\Tensorflow\\workspace\\images\\collectedimages\\thumbsdown\\thumbsdown.4999f44a-0fee-11ec-9731-34cff6fc365d.jpg -> Annotation:D:/python/tmp/tfodcourse/Tensorflow/workspace/images/collectedimages/thumbsdown/thumbsdown.4999f44a-0fee-11ec-9731-34cff6fc365d.xml\n",
      "Image:D:\\python\\tmp\\tfodcourse\\Tensorflow\\workspace\\images\\collectedimages\\thumbsdown\\thumbsdown.612779d3-0fed-11ec-9d46-34cff6fc365d.jpg -> Annotation:D:/python/tmp/tfodcourse/Tensorflow/workspace/images/collectedimages/thumbsdown/thumbsdown.612779d3-0fed-11ec-9d46-34cff6fc365d.xml\n",
      "Image:D:\\python\\tmp\\tfodcourse\\Tensorflow\\workspace\\images\\collectedimages\\thumbsdown\\thumbsdown.626188aa-0fed-11ec-ac5a-34cff6fc365d.jpg -> Annotation:D:/python/tmp/tfodcourse/Tensorflow/workspace/images/collectedimages/thumbsdown/thumbsdown.626188aa-0fed-11ec-ac5a-34cff6fc365d.xml\n",
      "Image:D:\\python\\tmp\\tfodcourse\\Tensorflow\\workspace\\images\\collectedimages\\thumbsdown\\thumbsdown.66118308-0fed-11ec-b947-34cff6fc365d.jpg -> Annotation:D:/python/tmp/tfodcourse/Tensorflow/workspace/images/collectedimages/thumbsdown/thumbsdown.66118308-0fed-11ec-b947-34cff6fc365d.xml\n"
     ]
    },
    {
     "name": "stderr",
     "output_type": "stream",
     "text": [
      "labelImg.py:965: DeprecationWarning: an integer is required (got type float).  Implicit conversion to integers using __int__ is deprecated, and may be removed in a future version of Python.\n",
      "  bar.setValue(bar.value() + bar.singleStep() * units)\n"
     ]
    }
   ],
   "source": [
    "!cd {LABELIMG_PATH} && python labelImg.py"
   ]
  },
  {
   "cell_type": "markdown",
   "metadata": {},
   "source": [
    "# 6. Move them into a Training and Testing Partition"
   ]
  },
  {
   "cell_type": "code",
   "execution_count": 21,
   "metadata": {},
   "outputs": [],
   "source": [
    "MAIN_PATH = os.path.join('Tensorflow', 'workspace', 'images')\n",
    "TRAIN_PATH = os.path.join(MAIN_PATH, 'train')\n",
    "TEST_PATH = os.path.join(MAIN_PATH, 'test')\n",
    "\n",
    "if not os.path.exists(TRAIN_PATH):\n",
    "    !mkdir {TRAIN_PATH}\n",
    "\n",
    "    \n",
    "if not os.path.exists(TEST_PATH):\n",
    "    !mkdir {TEST_PATH}"
   ]
  },
  {
   "cell_type": "code",
   "execution_count": null,
   "metadata": {},
   "outputs": [],
   "source": []
  }
 ],
 "metadata": {
  "kernelspec": {
   "display_name": "Python 3 (ipykernel)",
   "language": "python",
   "name": "python3"
  },
  "language_info": {
   "codemirror_mode": {
    "name": "ipython",
    "version": 3
   },
   "file_extension": ".py",
   "mimetype": "text/x-python",
   "name": "python",
   "nbconvert_exporter": "python",
   "pygments_lexer": "ipython3",
   "version": "3.8.11"
  }
 },
 "nbformat": 4,
 "nbformat_minor": 4
}
